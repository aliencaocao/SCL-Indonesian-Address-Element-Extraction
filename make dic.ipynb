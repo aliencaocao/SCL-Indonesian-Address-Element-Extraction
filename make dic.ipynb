{
 "cells": [
  {
   "cell_type": "code",
   "execution_count": 2,
   "metadata": {
    "collapsed": true
   },
   "outputs": [],
   "source": [
    "import pandas as pd\n",
    "df = pd.read_csv('abbrev.csv')\n"
   ]
  },
  {
   "cell_type": "code",
   "execution_count": 3,
   "outputs": [],
   "source": [
    "dict = {}\n",
    "def genDict(ori, new):\n",
    "    ori = str(ori).split()\n",
    "    new = str(new).split()\n",
    "    for i in range(len(ori)):\n",
    "        if ori[i] == new[i]:\n",
    "            pass\n",
    "        else:\n",
    "            dict.update({ori[i]: new[i]})"
   ],
   "metadata": {
    "collapsed": false,
    "pycharm": {
     "name": "#%%\n"
    }
   }
  },
  {
   "cell_type": "code",
   "execution_count": 4,
   "outputs": [
    {
     "data": {
      "text/plain": "{'dita,': 'dita',\n 'gede,': 'gede',\n 'raya,': 'raya',\n 'neg': 'negeri',\n 'boj': 'bojong',\n 'boj,': 'boj',\n 'yaya': 'yayasan',\n 'atohar,': 'atohariyah',\n 'v,': 'v',\n 'bang': 'bangkala',\n 'ajs,': 'ajs',\n 'kobelete,': 'kobelete',\n 'i,': 'i',\n 'tawar,': 'tawar',\n 'amd,': 'amdkeb',\n 'lestari,': 'lestari',\n 'mar': 'martad',\n 'tabl': 'tabloid',\n 'ii,': 'ii',\n 'pela,': 'pelajar',\n 'motor,': 'motor',\n 'sorea,': 'sorea',\n 'cpm,': 'cpm',\n '13,': '13',\n 'cak': 'cakung',\n 'jepa,': 'jepa',\n 'kader,': 'kader',\n 'prin,': 'printing',\n 'pinak,': 'pinak',\n 'bakuku,': 'bakuku',\n 'revo,': 'revo',\n 'minhajutt,': 'minhajutthollab',\n 'manan,': 'manan',\n 'daruss,': 'darussalam',\n 'jepun,': 'jepun',\n 'bint': 'bintang',\n 'ud,': 'ud',\n 'lima,': 'lima',\n 'ginarsa,': 'ginarsa',\n 'pembangunan,': 'pembangunan',\n 'kah': 'kaharu',\n 'damar,': 'damar',\n 'rah,': 'rahmat',\n 'cau': 'causal',\n 'terr,': 'terr',\n 'mel,': 'mel',\n 'jep': 'jepara',\n 'senn,': 'sennaart',\n 'bumi,': 'bumiaji',\n 'asri,': 'asri',\n 'iii,': 'iii',\n 'indomaret.': 'indomaret',\n 'indah,': 'indah',\n 'jati,': 'jati',\n 'hin': 'hinkan',\n 'kenc,': 'kenc',\n 'pt,': 'pt',\n 'kampar-ban,': 'kampar-ban',\n 'unisati,': 'unisati',\n 'dah': 'dahulu',\n 'caval': 'cavallino',\n 'pizz,': 'pizzeria',\n 'ukur,': 'ukur',\n '4,': '4',\n 'ib,': 'ib',\n 'coffee-ho,': 'coffee-ho',\n 'anita,': 'anita',\n 'mulia,': 'mulia',\n 'grey,': 'grey101',\n 'mangla': 'manglayang',\n 'beng': 'bengkel',\n 'deny,': 'deny',\n 'ibadah,': 'ibadah',\n 'minanga,': 'minanga',\n 'ber': 'berkah',\n 'bust': 'bustanul',\n 'islamiah,': 'islamiah',\n 'hol,': 'hol',\n '1,': '1',\n 'vii,': 'vii',\n 'resid,': 'resid',\n 'harapan,': 'harapan',\n 'mand': 'mandiri',\n 'cimb,': 'cimblek',\n 'prim': 'primary',\n 'iv,': 'iv',\n 'kuli': 'kuliner',\n 'nusan,': 'nusan',\n 'jatim,': 'jatim',\n 'tapa': 'tapanuli',\n 'sela': 'selatan',\n 'kos,': 'kos',\n 'pemban,': 'pembangunan',\n 'electr': 'electronic',\n 'laun': 'laundry',\n 'system,': 'system',\n 'radar,': 'radar',\n 'food,': 'food',\n 'per,': 'per',\n 'maron(lapangan': 'maron',\n 'padi,': 'padi',\n 'bout,': 'boutique',\n 'pasi': 'pasilian',\n 'redjeki,': 'redjeki',\n 'kerto': 'kertosono',\n 'stati': 'statistik',\n 'mas,': 'mas',\n 'kan': 'kantor',\n 'pang': 'panglima',\n 'setu,': 'setu',\n 'bat': 'batunu',\n 'hatta,': 'hatta',\n 'zahra,': 'zahra',\n 'sh.,': 'sh.mkn',\n 'spesia': 'spesialist',\n 'rio,': 'rio',\n 'sae,': 'sae',\n 'sound,': 'sound',\n 'mass,': 'mass',\n 'pahl': 'pahlawan',\n 'lome': 'lomenik',\n 'sbsi,': 'sbsi',\n 'ged': 'gedung',\n 'bersau,': 'bersaudara',\n 'gor': 'goreng',\n 'doey,': 'doey',\n 'abadi,': 'abadi',\n 'cang,': 'cangkir',\n 'jaya,': 'jaya',\n 'wono,': 'wono',\n 'pemalang,': 'pemalang',\n 'war': 'warung',\n 'waro': 'waroeng',\n 'pampangan,': 'pampangan',\n 'mamp': 'mampang',\n 'tanj,': 'tanj',\n 'elektr,': 'elektronik',\n 'ranca,': 'ranca',\n '9,': '9',\n 'persahabatan,': 'persahabatan',\n 'bkl,': 'bkl',\n 'cemp,': 'cempaka',\n 'semb': 'sembako',\n 'luxe,': 'luxe',\n 'ria': 'riadin',\n 'besar,': 'besar',\n 'terp': 'terpadu',\n 'nur,': 'nur',\n 'asa': 'asahan',\n 'suda,': 'suda',\n 'toko,': 'toko',\n 'benda,': 'benda',\n 'cipunjur,': 'cipunjur',\n 'baur,': 'baureno',\n 't-sh': 't-shirt',\n 'store,': 'store',\n 'santi,': 'santi',\n 'bea': 'beauty',\n 'spa,': 'spa',\n 'soet,': 'soet',\n 'tower.': 'tower',\n 'manusak,': 'manusak',\n 'ix,': 'ix',\n '10306,': '10306',\n 'bogor,': 'bogor',\n 'jasm,': 'jasminie',\n 'vari,': 'variasi',\n 'indocar': 'indocarpenter',\n 'mekar,': 'mekar',\n 'sut,': 'sut',\n 'muria,': 'muria',\n 'kholil,': 'kholil',\n 'laundry,': 'laundry',\n 'lor,': 'lor',\n 'alazka,': 'alazka',\n 'modi,': 'modified',\n 'makh': 'makhasi',\n 'konsu,': 'konsultan',\n 'samad,': 'samad',\n 'cell,': 'cell',\n 'sast,': 'sast',\n 'serv': 'service',\n 'village.': 'village',\n 'kulon,': 'kulon',\n 'pab': 'pabrik',\n 'maros,': 'maros',\n 'pulori,': 'puloriburit',\n 'vi,': 'vi',\n 'auliya,': 'auliya',\n 'alam,': 'alam',\n 'pena': 'penajam',\n 'batu,': 'batu',\n 'mogot,': 'mogot',\n 'mar,': 'mar',\n 'lup': 'lupita',\n '22,': '22',\n 'kar': 'karang',\n 'komp': 'komplek',\n 'panyileukan,': 'panyileukan',\n 'mush': 'musholla',\n 'ataqwa,': 'ataqwa',\n 'collection,': 'collection',\n 'cosmat': 'cosmaterial',\n 'sum,': 'sum',\n 'pos,': 'pos',\n 'lom': 'lombok',\n 'ratul,': 'ratulangi',\n 'kor': 'korpri',\n 'restoran,': 'restoran',\n '2,': '2',\n 'chat': 'chatime',\n 'suba,': 'subarkah',\n 'grup,': 'grup',\n 'wuruk,': 'wuruk',\n 'nasir,': 'nasir',\n 'maka': 'makassar',\n 'd5,': 'd5',\n 'wood,': 'wood',\n 'satrio,': 'satrio',\n 'lis,': 'listin',\n 'prat': 'pratama',\n 'god,': 'god',\n 'kart,': 'kart',\n 'kemul,': 'kemul',\n 'kena,': 'kena',\n 'spudnik,': 'spudnik',\n 'tabah,': 'tabah',\n '11,': '11',\n 'abri,': 'abri',\n 'cho,': 'choice',\n 'hara,': 'harapan',\n 'jan,': 'jannah',\n 'souv,': 'suha',\n 'suko': 'sukolilo',\n 'coun': 'counter',\n 'kalija,': 'kalija',\n 'appa,': 'apparel',\n 'mahoni,': 'mahoni',\n 'tinggi.': 'tinggi',\n 'ramb,': 'ramb',\n 'yani,': 'yani',\n 'maarif,': 'maarif',\n 'basuk,': 'basuk',\n 'kastolani,': 'kastolani',\n 'cile,': 'cilegon',\n 'upk,': 'upk',\n 'unil,': 'unilever',\n 'clinic,': 'clinic',\n 'chem': 'chemical',\n 'rij,': 'rij',\n 'penyet,': 'penyet',\n 'mongin,': 'mongin',\n 'resto,': 'resto',\n 'fikri,': 'fikri',\n 'yusuf,': 'yusuf',\n 'seun,': 'seun',\n 'soem,': 'soem',\n 'desa,': 'desa',\n 'salon,': 'salon',\n 'bori,': 'borisnan',\n 'ujung,': 'ujung',\n 'kun,': 'kuning',\n 'carina,': 'carina',\n 'babun,': 'babun',\n 'cellae,desa': 'cellae',\n 'indriani,': 'indriani',\n 'selapa)': 'selapa',\n 'wahi': 'wahidin',\n 'ren': 'rental',\n 'kam': 'kampus',\n 'hijau,': 'hijau',\n 'wad,': 'wad',\n '6,': '6',\n 'dul,': 'dul',\n 'rifa,': 'rifa',\n 'aa,': 'aa',\n 'k,': 'k',\n 'toi': 'toilet',\n 'pertamina,': 'pertamina',\n 'cof,': 'coffee',\n 'fash,': 'fashion',\n 'bag': 'baglog',\n 'resort,': 'resort',\n 'sol,': 'solusi',\n 'sukasada,': 'sukasada',\n 'kania,': 'kania',\n 'cipto,': 'cipto',\n 'suma,': 'suma',\n 'alfa': 'alfamrt',\n 'busana,': 'busana',\n 'hasanuddin,': 'hasanuddin',\n 'nasio,': 'nasio',\n 'sate)': 'sate',\n 'ciki': 'cikiwul',\n 'cilangkap,': 'cilangkap',\n 'gado-gado,': 'gado-gado',\n 'kalib,': 'kalib',\n 'mono,': 'mono',\n 'banjarn': 'banjarnegara',\n 'pur,': 'pur',\n 'tek,': 'teknik',\n 'indu,': 'indu',\n 'pla,': 'plaeng',\n 'pertan': 'pertanahan',\n 'jayawi,': 'jayawijaya',\n 'suci': 'sucipto',\n 'bakar,': 'bakar',\n 'july,': 'july',\n 'macc': 'maccini',\n 'sawah,': 'sawah',\n '25,': '25',\n 'xi,': 'xi',\n 'djua,': 'djua',\n '14,': '14',\n 'salim,': 'salim',\n 'tuah,': 'tuah',\n 'bu': 'bogen',\n 'nah,': 'nahisa',\n 'pran,': 'pranoto',\n 'mojogedang,': 'mojogedang',\n 'elektr': 'elektronik',\n 'kali,': 'kalijogo',\n 'diponegoro,': 'diponegoro',\n 'kasim,': 'kasim',\n 'ayu,': 'ayu',\n 'crn,': 'crn',\n 'sakti,': 'sakti',\n 'the': 'tirto',\n 'ubu,': 'ubu',\n 'sida,': 'sidarejo',\n 'anda,': 'anda',\n 'merd,': 'merd',\n 'pon': 'ponsel',\n 'kur': 'kursus',\n 'lassofi,': 'lassofi',\n 'amin,': 'amin',\n 'kesaya': 'kesayangan',\n 'riyadi,': 'riyadi',\n 'indonesia,': 'indonesia',\n 'colu': 'columbus',\n 'bule': 'bulevar',\n 'baro,': 'barokah',\n 'bakti,': 'bakti',\n 'miea': 'mieayam',\n 'kra,': 'kra',\n 'kay,': 'kay',\n 'ten,': 'ten',\n 'kolo': 'kolonel',\n 'gus,': 'gus',\n 'mada,': 'mada',\n 'optimal,': 'optimal',\n 'cibu,': 'cibungur',\n 'lin': 'lintas',\n 'timur,': 'timur',\n 'soka,': 'soka',\n 'pancar': 'pancaripta',\n 'ling,': 'ling',\n 'ok,': 'ok',\n 'tak': 'taklim',\n 'kori,': 'kori',\n 'pisa,': 'pisangan',\n 'utara,': 'utara',\n 'liwa,': 'liwa',\n 'khu': 'khusus',\n 'saptoroso,': 'saptoroso',\n '3,': '3',\n 'ijo,': 'ijo',\n 'sudiroh,': 'sudiroh',\n 'rasa,': 'rasa',\n 'cokr,': 'cokr',\n 'nur': 'nurika',\n 'indon,': 'indonesia',\n 'kel': 'kelapa',\n 'gad,': 'gad',\n 'indomaret,': 'indomaret',\n 'yog,': 'yog',\n 'tirta,': 'tirtayasa',\n 'rice,': 'rice',\n 'sari,': 'sari',\n 'kecil,': 'kecil',\n 'tama,': 'tama',\n 'amb,': 'ambong',\n 'kopi,': 'kopi',\n 'club,': 'club',\n 'tent': 'tentara',\n 'mah': 'mahrah',\n 'mexicano,': 'mexicano',\n 'cobek,': 'cobek',\n 'panj,': 'panjunan',\n 'muji,': 'muji',\n 'kidul,': 'kidul',\n 'yuni': 'yuniarti',\n 'audio,': 'audio',\n 'asy,': 'asy',\n 'zidane,': 'zidane',\n 'cibungbulang,': 'cibungbulang',\n 'leces,': 'leces',\n 'tim,': 'tim',\n 'mayang,': 'mayang',\n 'muti,': 'muti',\n 'alan,': 'alan',\n 'urip,': 'urip',\n '5,': '5',\n 'niki,': 'niki',\n 'baitul': 'berdi',\n 'halu,': 'halu',\n 'eput,': 'eput',\n 'mansion.': 'mansion',\n 'residence,': 'residence',\n 'thamrin.': 'thamrin',\n 'moria,': 'moria',\n 'tal': 'talang',\n 'jois,': 'jois',\n 'sukari,': 'sukarindik',\n 'cikaja,': 'cikaja',\n 'pahl,': 'pahl',\n '106': '106143',\n 'kuis,': 'kuis',\n 'sto': 'stonen',\n 'cv,': 'cv',\n 'kabup,': 'kabup',\n 'kem,': 'kem',\n 'keb,': 'keb',\n 'pasirj': 'pasirjambu',\n 'inter': 'interalia',\n 'rank,': 'rankoto',\n 'rimba,': 'rimba',\n 'kut': 'kutruk',\n 'band': 'bandara',\n 'pasirk,': 'pasirkiamis',\n 'sudi,': 'sudi',\n 'penyul': 'penyuluhan',\n 'pangan,': 'pangandaran',\n 'lamo': 'lamongan',\n 'pan': 'pantai',\n 'syafa,': 'syafa',\n 'mad': 'madura',\n 'coffee,': 'coffee',\n 'beo,': 'beo',\n 'm,': 'm',\n 'beri,': 'beri',\n 'kerli': 'kerlipan.',\n 'sentosa,': 'sentosa',\n 'dyna': 'dynamic',\n 'lang': 'langsep',\n 'insti,': 'institute',\n 'pane,': 'pane',\n 'banda,': 'banda',\n 'collec': 'collection',\n 'par,': 'par',\n 'dag': 'daging',\n 'mul,': 'mulawa',\n 'malahayati,': 'malahayati',\n 'can,': 'can',\n 'pudd': 'pudding',\n 'hill,': 'hill',\n 'kabasiran,': 'kabasiran',\n 'rubi': 'rubindo',\n 'perk': 'perkasa',\n 'bakery,': 'bakery',\n 'maje': 'majelis',\n 'arra,': 'arra',\n 'gay': 'gayung',\n 'mgp,': 'mgp',\n 'barat,': 'barat',\n 'one,': 'one',\n 'bandung,': 'bandung',\n 'sam': 'sambal',\n 'da,': 'da',\n 'tan,': 'tan',\n 'valen': 'valentcia',\n 'air': 'airdas',\n 'clot,': 'clothes',\n 'rukun,': 'rukun',\n 'gopek,': 'gopek',\n 'sentra': 'sentralindo',\n 'dag,': 'daging',\n 'kup,': 'kupang',\n 'ase,': 'ase',\n 'sumbawa,': 'sumbawa',\n 'ruhil,': 'ruhil',\n 'indom,': 'indomaret',\n 'ancol,': 'ancol',\n 'peri': 'perintis',\n 'pelangi,': 'pelangi',\n 'putra,': 'putra',\n 'sum': 'sumber',\n 'ter': 'teruna',\n '7,': '7',\n 'pegadaian,': 'pegadaian',\n 'sisin,': 'sisin',\n 'suryaa,': 'suryaatmaja',\n 'ban': 'bangka',\n 'nug': 'nugget',\n 'kumis,': 'kumis',\n 'abc,': 'abc',\n 'rak': 'rakyat',\n 'prib': 'pribumi',\n 'jajar,': 'jajar',\n 'pol': 'polisi',\n 'tiara,': 'tiara',\n 'baru,': 'baru',\n 'pro': 'pronto',\n 'alams': 'alamsyah.',\n 'sar': 'sarana',\n 'pesta,': 'pesta',\n 'duy,': 'duy',\n 'kary': 'karyawan',\n 'novo': 'novotel',\n '(kop': '(kopkar',\n 'novo),': 'novo)',\n 'darso,': 'darso',\n 'pesan': 'pesantren',\n 'sadiyah,': 'sadiyah',\n 'penga': 'pengantin',\n 'sh,': 'sh',\n 'santy,': 'santy',\n 'darmaw': 'darmawangsa',\n 'mas': 'masjid',\n 'almutathohhirin,': 'almutathohhirin',\n 'seng,': 'seng',\n 'alf': 'alfuza',\n 'royo,': 'royo',\n 'jeans,': 'jeans',\n 'hadij,': 'hadijanto',\n 'pen,': 'pen',\n 'jun': 'junior',\n 'komu': 'komunika',\n 'bar,': 'bar',\n 'bit,': 'bit',\n 'say,': 'say',\n 'inp': 'inpres',\n 'perjua,': 'perjua',\n 'computer,': 'computer',\n 'lor': 'lorong',\n 'jem': 'jembar',\n '(hara,': '(harapan)',\n 'pu,': 'pu',\n 'crys': 'crystal',\n 'barat,penjaringan,jkt': 'barat',\n 'jaket,': 'jaket',\n 'tham,': 'tham',\n 'indon': 'indonesia',\n 'mahakam,': 'mahakam',\n 'khay,': 'khay',\n 'aliya,': 'aliya',\n 'sant': 'santoso',\n 'parf': 'parfume',\n 'kemerd': 'kemerdekaan',\n 'fisabilillah,': 'fisabilillah',\n 'sad,': 'sad',\n 'solo,': 'solo',\n 'beba,': 'bebarica',\n 'halieluyah,': 'halieluyah',\n 'doorsmeer,': 'doorsmeer',\n 'ged,': 'ged',\n 'viek,': 'vieklin',\n 'kota,': 'kota',\n 'hakim,': 'hakim',\n 'por': 'portal',\n 'wis': 'wisata',\n 'ho,': 'ho',\n 'yoyo,': 'yoyo',\n 'sulis,': 'sulis',\n '3k,': '3k',\n 'utama,': 'utama',\n 'kalia,': 'kalia',\n 'mangunk,': 'mangunkusumo',\n 'sira,': 'sira',\n 'nyitz,': 'nyitzfood',\n 'giri,': 'giri',\n 'sulaima': 'sulaimaniyah',\n 'wada,': 'wadasli',\n 'sayekti,': 'sayekti',\n 'roh,': 'rohmah',\n 'palembang,': 'palembang',\n 'muna,': 'muna',\n 'ger': 'gereja',\n 'cen': 'center',\n 'pis': 'pisang',\n 'geprek,': 'geprek',\n 'anbe': 'anbenov',\n 'pram': 'pramuka',\n 'zahr': 'zahrratu',\n 'nuruss,': 'nurussalam',\n 'alfa,': 'alfamart',\n 'tengah,': 'tengah',\n 'kuc': 'kucing',\n 'mage,': 'mage',\n 'karim,': 'karim',\n 'sul': 'sulung',\n 'gep': 'geprek',\n 'got': 'gotong',\n '86,': '86',\n 'bam,': 'bamboe',\n 'prasta,': 'prasta',\n 'toy': 'toyota',\n 'indra': 'indramayu',\n 'warm': 'warmindo',\n 'pusenlis,': 'pusenlis',\n 'arm,': 'arm',\n 'arj,': 'arj',\n 'mala,': 'mala',\n 'keda,': 'keda',\n 'rant': 'ranting',\n 'lest': 'lestari',\n 'tera,': 'tera',\n 'muly,': 'mulyadi',\n 'trik,': 'trik',\n 'kamp': 'kampung',\n 'dua,': 'dua',\n 'pep,': 'pep',\n 'g2,': 'g2',\n 'airla': 'airlangga',\n 'perum': 'perumahan',\n 'dev': 'devana',\n 'house,': 'house',\n 'rai,': 'rai',\n 'kin,': 'kin',\n 'sugi,': 'sugiman',\n 'catterp': 'catterpilars',\n 'montes': 'montessori',\n 'school,': 'school',\n 'xii,': 'xii',\n 'che,': 'che',\n 'nadeak,': 'nadeak',\n 'ali,': 'ali',\n 'photo,': 'photocopy',\n 'rom,': 'rom',\n 'saad,': 'saad',\n 'anom,': 'anom',\n 'darm': 'darmawan',\n 'clare,': 'clare',\n 'srir': 'sriratu',\n 'inspirasi,': 'inspirasi',\n 'pak': 'pakcik',\n 'joko,': 'joko',\n 'karangbener,': 'karangbener',\n 'dewa,': 'dewa',\n 'hasan,': 'hasan',\n 'unida,': 'unida',\n 'gar,': 'gar',\n 'sugu,': 'sugu',\n 's,': 's',\n 'zone,': 'zone',\n 'pangk': 'pangkalan',\n 'resmi,': 'resmi',\n 'cendrasih,': 'cendrasih',\n 'al-hid,': 'al-hidayah',\n 'co,': 'co',\n 'far': 'farhan',\n 'logi': 'logistik',\n 'bek': 'bekasi',\n 'viii,': 'viii',\n 'fort': 'fortuna',\n 'ken,': 'ken',\n 'wetan,': 'wetan',\n 'al-huda,': 'al-huda',\n 'mage': 'magetan',\n 'tegal,': 'tegal',\n 'rivi,': 'riviera',\n 'rah': 'rahayu',\n 'widoh,': 'widoh',\n 'kall': 'kallista',\n 'pri': 'prima.',\n 'pd,': 'pd',\n 'dura,': 'dura',\n 'ju,': 'ju',\n '45,': '45',\n 'i3,': 'i3',\n 'fatahi,': 'fatahillah',\n 'mak': 'makmur',\n 'rasmiy': 'rasmiyatun',\n 'supr,': 'supr',\n 'kope': 'koperasi',\n 'mahkota,': 'mahkota',\n 'atmaja,': 'atmaja',\n 'lara,': 'lara',\n 'suryatna,': 'suryatna',\n 'tanjung,': 'tanjungdalam',\n 'pesan,': 'pesan',\n 'fajri,': 'fajri',\n 'ponsel,': 'ponsel',\n 'kent,': 'kenthos',\n 'beli,': 'beli',\n 'bar': 'barber',\n 'shop,': 'shop',\n 'gunuang,': 'gunuang',\n 'darto,': 'darto',\n 'ali': 'alifah',\n 'tit': 'titiek',\n 'pendid': 'pendidikan',\n 'maruasey,': 'maruasey',\n 'raas,': 'raas',\n 'weed': 'weeding',\n 'bor,': 'bor',\n 'foto,': 'foto',\n 'tond,': 'tond',\n 'mang,': 'mang',\n 'hary,': 'hary',\n 'rina,': 'rina',\n 'iiic,': 'iiic',\n 'anug': 'anugrah',\n 'mebel,': 'mebel',\n 'gabug,': 'gabugagan',\n 'hea': 'heaven',\n 'skateb,': 'skateboards',\n 'truno,': 'truno',\n 'sio': 'siomay',\n '8,': '8',\n 'hara': 'harapan',\n 'jemb': 'jembatan',\n 'cibi': 'cibitung',\n 'keso': 'kesohor',\n 'adyaw': 'adyawinsa',\n 'seki': 'sekisui',\n 'molding,': 'molding',\n 'swa': 'swasta',\n 'dha': 'dharma',\n 'besi': 'besitang',\n 'tila': 'tilawati',\n 'bowl,': 'bowl',\n 'sur,': 'sur',\n 'hasa,': 'hasanah',\n 'kohar,': 'kohar',\n 'del,': 'del',\n 'kuat,': 'kuat',\n 'soek': 'soekarno',\n '19,': '19',\n 'mes,': 'mes',\n 'lemb': 'lembang',\n 'streats,': 'streats',\n 'dewantara,': 'dewantara',\n 'gar': 'garuda',\n 'musli,': 'muslihuun',\n 'irig,': 'irig',\n 'sudi': 'sudiarto',\n 'kemerd,': 'kemerdekaan',\n 'e-cosway,': 'e-cosway',\n 'boya,': 'boya',\n 'cah': 'cahaya',\n 'paku,': 'paku',\n 'asem,': 'asem',\n 'pad': 'padema',\n 'emi,': 'emi',\n 'hali': 'halimah',\n 'tubun,': 'tubun',\n 'kebuda': 'kebudayaan',\n 'pariwi': 'pariwisata',\n 'nikko': 'nikkotama',\n 'susu,': 'susu',\n 'band,': 'bandung',\n 'pinang,': 'pinang',\n 'semango,': 'semango',\n 'harita,': 'harita',\n 'jon': 'jonash',\n 'kaler,': 'kaler',\n 'meizwar,': 'meizwar',\n 'silaturrahim,': 'sisingama',\n 'a4,': 'a4',\n 'jeli,': 'jeli',\n 'air,': 'air',\n 'san': 'santan',\n 'por,': 'por',\n 'clea': 'cleaning',\n 'service,': 'service',\n 'mus': 'mustar',\n 'hana,': 'hana',\n 'nn,': 'nn',\n 'perta': 'pertanian',\n 'atlantis,': 'atlantis',\n 'stad': 'stadion',\n 'ketonggo,': 'ketonggo',\n '2c,': '2c',\n 'adnawi,': 'adnawi',\n 'radj,': 'radj',\n 'pers': 'persero',\n 'asuransi,': 'asuransi',\n 'pangka,': 'pangka',\n 'sara,': 'sara',\n 'vill,': 'vill',\n 'pera': 'perancis',\n 'palu,': 'palu',\n 'alian,': 'alianyang',\n 'buah,': 'buah',\n 'bb,': 'bb',\n 'tarbiy': 'tarbiyatul',\n 'nisaa,': 'nisaa',\n 'yun,': 'yun',\n 'cik,': 'cik',\n 'munawir,': 'munawir',\n 'law,': 'law',\n 'cipa,': 'cipa',\n 'nara,': 'nara',\n 'rem': 'rempah',\n 'atas,': 'atas',\n 'kemu,': 'kemu',\n 'soek,': 'soek',\n 'swi': 'swikee',\n 'tra,': 'travel',\n 'pajag,': 'pajag',\n 'textile,': 'textile',\n 'min': 'mingga',\n 'makan,': 'makan',\n 'muti': 'mutiara',\n 'printing,': 'printing',\n 'segar,': 'segar',\n 'pau': 'paulan',\n 'terang,': 'terang',\n 'rum': 'rumdin',\n 'kaw': 'kawalu',\n 'mitra,': 'mitrasana',\n 'mark': 'markipat',\n 'boneka,': 'boneka',\n 'subr,': 'subr',\n 'al-ma': 'al-mansur',\n 'muzdalifah,': 'muzdalifah',\n 'umar,': 'umar',\n 'bersama.ud,': 'bersama.ud',\n 'farm': 'farming',\n 'pharmaca,': 'pharmaca',\n 'tinta,': 'tinta',\n 'pe,': 'pe',\n 'bagus,': 'bagus',\n 'jogja-solo,': 'jogja-solo',\n 'suseno,': 'suseno',\n 'madu,': 'madu',\n 'lau,': 'lau',\n 'homestay,': 'homestay',\n 'taubah,': 'taubah',\n 'muda,': 'muda',\n 'simp': 'simpang',\n 'pag,': 'pag',\n 'ser,': 'servis',\n 'sejahtera,': 'sejahtera',\n 'sp.tht-kl,': 'sp.tht-kl',\n 'panc': 'pancong',\n 'g-t': 'g-tekt',\n 'garage,': 'garage',\n 'pan,': 'pan',\n 'ten': 'tengah',\n 'munip,': 'munip',\n 'pp,': 'pp',\n 'burung,': 'burung',\n 'xv,': 'xv',\n 'dalam,': 'dalam',\n 'kand': 'kandang',\n 'az-z': 'az-zahra',\n 'yantuk,': 'yantuk',\n 'ibra,': 'ibra',\n '77,': '77',\n 'garu,': 'garu',\n 'puy,': 'puy',\n 'azh,': 'azh',\n 'fress,': 'fress',\n 'kanginan.delod': 'kanginan',\n 'pund,': 'punduhan',\n 'cnb,': 'cnb',\n 'rorome': 'roromendut',\n 'stoc': 'stockist',\n 'gd2,': 'gd2205',\n 'g,': 'g',\n 'drinks,': 'drinks',\n 'sem,': 'sem',\n 'api-api,': 'api-api',\n 'pancing,': 'pancing',\n 'bandrek.rt': 'bandrek',\n 'ghon,': 'ghoniyah',\n 'ciawi,': 'ciawi',\n 'ui,': 'ui',\n 'khar': 'kharisma',\n 'suryati,': 'suryati',\n 'gemi': 'gemilang',\n 'yuni,': 'yuni',\n 'cemp': 'cempaka',\n 'crea': 'creative',\n 'net,': 'net',\n 'riya,': 'riya',\n 'dpu,': 'dpu',\n 'squ': 'square',\n 'lan': 'lantai',\n 'spi,': 'spi',\n 'iska': 'iskandar',\n 'tam': 'tamini',\n 'duwet,': 'duwet',\n 'al-hid': 'al-hidayah',\n 'kre': 'kresna',\n 'ciu,': 'ciumbu',\n 'gondok,': 'gondok',\n 'karya,': 'karya',\n 'wates,': 'wates',\n 'farma,': 'farma',\n 'mal': 'malaka',\n 'sil': 'silvia',\n 'warna,': 'warna',\n 'tang': 'tangkil',\n 'fact,': 'factory',\n 'baitutaqwa,': 'baitutaqwa',\n 'sd': 'suka',\n 'cibiuk,': 'cibiuk',\n 'tidar,': 'tidar',\n 'atm,': 'atm',\n 'plaza,': 'plaza',\n 'niti,': 'niti',\n 'bilqis,': 'bilqis',\n 'wib': 'wibowo',\n 'str,': 'street',\n 'isman.': 'isman',\n 'mawar,': 'mawar',\n 'nge': 'ngeleh',\n 'sawungg,': 'sawungg',\n 'furni,': 'furniture',\n 'kaum,': 'kaum',\n 'ikh,': 'ikh',\n 'sart,': 'sart',\n 'beng,': 'bengkulu',\n 'goreng,': 'goreng',\n 'tourst': 'tourstravel',\n 'sula,': 'sula',\n 'joglo,': 'joglo',\n 'grosir,': 'grosir',\n 'pay,': 'pay',\n 'kland': 'klandasan',\n 'per': 'perum.',\n 'space,': 'space',\n 'arqom,': 'arqom',\n 'fallah,': 'fallah',\n '#1,': '#1',\n 'bai': 'baitul',\n 'hik': 'hikmah',\n 'jaka,': 'jakarta',\n 'hali,': 'hali',\n 'geren,': 'geren',\n 'muhi,': 'muhi',\n 'indom': 'indomaret',\n 'bua': 'buaran',\n 'olshop,': 'olshop',\n 'ida': 'idaman',\n 'jua,': 'jua',\n 'aji,': 'aji',\n 'perjuangan,': 'perjuangan',\n 'hadi,': 'hadi',\n 'halim,': 'halim',\n 'radinah,': 'radinah',\n 'atk,': 'atk',\n 'junia,': 'junia',\n 'kal,': 'kal',\n 'base': 'basement',\n 'offi': 'officer',\n 'noah,': 'noah',\n 'mojo,': 'mojo',\n 'bili,': 'biliton',\n 'plaza@': 'plaza',\n 'pelab': 'pelabuhan',\n 'babuss': 'babussalam',\n 'pulo,': 'pulo',\n 'apl,': 'apl',\n 'para': 'parapat',\n 'metro,': 'metro',\n 'dhar,': 'dhar',\n 'kosa': 'kosambi',\n 'meucap,': 'meucap',\n 'plus,': 'plus',\n 'ren,': 'ren',\n 'polri,': 'polri',\n 'man,': 'mangga',\n 'jela,': 'jela',\n 'sup,': 'sup',\n 'sappa,': 'sappa',\n 'adjie,': 'adjie',\n 'awal,': 'awal',\n 'madr': 'madrasah',\n 'falah,': 'falah',\n 'has': 'hasyim',\n 'meme,': 'meme',\n 'tembilahan,': 'tembilahan',\n '98,': '98',\n 'ragunan)': 'ragunan',\n 'par': 'parkir',\n 'merawang,': 'merawang',\n 'nurjanah,': 'nurjanah',\n 'rate,': 'rate',\n 'hangtuah,': 'hangtuah',\n 'bang,': 'bang',\n 'lest,': 'lestari',\n 'man': 'macadam',\n 'mandiri,': 'mandiri',\n 'rejo,': 'rejo',\n 'perus,': 'perus',\n 'tin,': 'tin',\n 'toha,': 'toha',\n 'tabu': 'tabungan',\n 'tbk,': 'tbk',\n 'squre,': 'squre',\n 'simatupang,': 'simatupang',\n 'bak': 'bakery',\n 'her': 'herbal',\n 'abus,': 'abus',\n 'sch,': 'school',\n 'group,': 'group',\n ...}"
     },
     "execution_count": 4,
     "metadata": {},
     "output_type": "execute_result"
    }
   ],
   "source": [
    "df.apply(lambda x: genDict(x['1'], x['2']), axis=1)\n",
    "df\n",
    "dict"
   ],
   "metadata": {
    "collapsed": false,
    "pycharm": {
     "name": "#%%\n"
    }
   }
  },
  {
   "cell_type": "code",
   "execution_count": 5,
   "outputs": [],
   "source": [
    "test = pd.read_csv('test.csv')\n",
    "result = pd.read_csv('result.csv')\n",
    "def map(adr):\n",
    "    words = str(adr).strip().split()\n",
    "    final = []\n",
    "    for word in words:\n",
    "        if word in dict.keys():\n",
    "            word = dict[word]\n",
    "            final += [word]\n",
    "    return ' '.join(final)\n",
    "\n",
    "def fill(raw, expand):\n",
    "    if expand == '':\n",
    "        return raw\n",
    "    else:\n",
    "        return expand\n",
    "\n",
    "test['raw_address_expanded'] = test.apply(lambda x: map(x['raw_address']), axis=1)\n",
    "test['raw_address_expanded'] = test.apply(lambda x: map(x['raw_address']), axis=1)\n",
    "# result['POI/street'] = result.apply(lambda x: map(x['POI/street']), axis=1)\n",
    "test\n",
    "# result\n",
    "test.to_csv('test_expanded.csv', index=False)\n",
    "\n",
    "# result.to_csv('result_expanded.csv', index=False)"
   ],
   "metadata": {
    "collapsed": false,
    "pycharm": {
     "name": "#%%\n"
    }
   }
  }
 ],
 "metadata": {
  "kernelspec": {
   "display_name": "Python 3",
   "language": "python",
   "name": "python3"
  },
  "language_info": {
   "codemirror_mode": {
    "name": "ipython",
    "version": 2
   },
   "file_extension": ".py",
   "mimetype": "text/x-python",
   "name": "python",
   "nbconvert_exporter": "python",
   "pygments_lexer": "ipython2",
   "version": "2.7.6"
  }
 },
 "nbformat": 4,
 "nbformat_minor": 0
}